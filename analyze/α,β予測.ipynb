{
 "cells": [
  {
   "cell_type": "markdown",
   "metadata": {},
   "source": [
    "# α,βの予測用を行う用のスクリプト"
   ]
  },
  {
   "cell_type": "markdown",
   "metadata": {},
   "source": [
    "# 論文において\n",
    "\n",
    "---\n",
    "1. 全体で出た目の回数のχ2値．\n",
    "2. (～5)系列の約4分の1（長さ100の場合には1-30番目，24-53番目，48-77番目，70-99番目）のそれぞれにおける出た目の回数のχ2値．\n",
    "6. 偶数と奇数が並ぶ部分の数\n",
    "7. 同じ目が2連続する部分の数\n",
    "8. 同じ目が3連続する部分の数\n",
    "9. 同じ目が4連続する部分の数\n",
    "10. XXYY, XYXY, XYYX など，2つの目が2つずつ登場する部分の数．ツーペア\n",
    "11. XXYYYなど，2つの目が2つと3つ登場する部分の数．フルハウス\n",
    "12. XYXXなど，両端を含め4つ中3つが同じ目である部分の数\n",
    "13. XYXZXなど，5つ中3つの場合\n",
    "14.  XYXZXXなど，6つ中4つの場合\n",
    "15.  XXYXZWXなど，7つ中4つの場合．\n",
    "---\n",
    "被験者の生成した乱数には以下の特徴が見れる。\n",
    "\n",
    "\n",
    "|特徴量|理論値|平均|上位平均|下位平均|\n",
    "|:---:|:---:|:---:|:---:|:---:|\n",
    "|F1| 5.0| 2.4| 3.3 |1.5|\n",
    "|F2（～F5)| 5.0 |2.2 |3.0 |1.3|\n",
    "|F6 |49.5 |55.6 |62.0| 49.3|\n",
    "|F7| 16.5 |10.9 |15.9 |6.0|\n",
    "|F8 |2.7 |0.8 |1.5| 0.1|\n",
    "|F9 |0.45 |0.06 |0.1 |0.0|\n",
    "|F10 |6.7 |3.3| 5.3 |1.3|\n",
    "|F11 |1.5 |0.4 |0.8 |0.0|\n",
    "|F12 |4.5 |1.4 |2.8 |0.0|\n",
    "|F13 |5.6| 1.8| 2.8| 0.9|\n",
    "|F14 |1.8 |0.3 |0.5| 0.0|\n",
    "|F15 |2.5 |0.5| 1.0 |0.0|"
   ]
  },
  {
   "cell_type": "code",
   "execution_count": null,
   "metadata": {},
   "outputs": [],
   "source": []
  }
 ],
 "metadata": {
  "kernelspec": {
   "display_name": "Python 3",
   "language": "python",
   "name": "python3"
  },
  "language_info": {
   "codemirror_mode": {
    "name": "ipython",
    "version": 3
   },
   "file_extension": ".py",
   "mimetype": "text/x-python",
   "name": "python",
   "nbconvert_exporter": "python",
   "pygments_lexer": "ipython3",
   "version": "3.7.3"
  }
 },
 "nbformat": 4,
 "nbformat_minor": 2
}
